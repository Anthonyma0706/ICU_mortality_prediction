{
  "cells": [
    {
      "cell_type": "markdown",
      "metadata": {
        "id": "cn8mvvwTUrG-"
      },
      "source": [
        "# Homework 1"
      ]
    },
    {
      "cell_type": "markdown",
      "metadata": {},
      "source": []
    },
    {
      "cell_type": "markdown",
      "metadata": {
        "id": "zIRDtwbvUrHC"
      },
      "source": [
        "## Part 1: Mortality Prediction in the ICU"
      ]
    },
    {
      "cell_type": "markdown",
      "metadata": {
        "id": "Emn_ImD6xjT1"
      },
      "source": [
        "The dataset you will use for this homework assignment can be found at the following link: https://drive.google.com/drive/folders/1n-fmx1jS_IWEsUj3EzlZ1qZ0hxqtSnZF?usp=sharing\n",
        "\n",
        "Please make sure to copy the files to your own google drive folder and substitute the path to that file below to load the dataset."
      ]
    },
    {
      "cell_type": "code",
      "execution_count": 160,
      "metadata": {
        "id": "NRYHtJlb3Qku"
      },
      "outputs": [],
      "source": [
        "# from google.colab import drive\n",
        "\n",
        "# Will ask for authentication, click allow\n",
        "# drive.mount(\"/content/drive\")\n",
        "\n",
        "# Enter the correct path here\n",
        "#------YOUR CODE HERE--------\n",
        "path_to_data_folder = \"hst_953_2022_data\"\n",
        "#------YOUR CODE ENDS--------\n"
      ]
    },
    {
      "cell_type": "code",
      "execution_count": 161,
      "metadata": {
        "id": "lL7nZI1KUrHD"
      },
      "outputs": [
        {
          "name": "stdout",
          "output_type": "stream",
          "text": [
            "(91713, 198)\n"
          ]
        }
      ],
      "source": [
        "import os\n",
        "import pandas as pd\n",
        "import numpy as np\n",
        "import matplotlib.pyplot as plt\n",
        "\n",
        "# Load the GOSSIS dataset into a pandas dataframe\n",
        "df = pd.read_csv(os.path.join(path_to_data_folder, \"gossis.csv\"))\n",
        "print(df.shape)"
      ]
    },
    {
      "cell_type": "code",
      "execution_count": 162,
      "metadata": {},
      "outputs": [
        {
          "data": {
            "text/plain": [
              "198"
            ]
          },
          "execution_count": 162,
          "metadata": {},
          "output_type": "execute_result"
        }
      ],
      "source": [
        "len(list(df.columns)) # we have 198 features"
      ]
    },
    {
      "cell_type": "markdown",
      "metadata": {
        "id": "1C2xa_zJUrHE"
      },
      "source": [
        "(a)"
      ]
    },
    {
      "cell_type": "code",
      "execution_count": 163,
      "metadata": {},
      "outputs": [
        {
          "data": {
            "text/html": [
              "<div>\n",
              "<style scoped>\n",
              "    .dataframe tbody tr th:only-of-type {\n",
              "        vertical-align: middle;\n",
              "    }\n",
              "\n",
              "    .dataframe tbody tr th {\n",
              "        vertical-align: top;\n",
              "    }\n",
              "\n",
              "    .dataframe thead th {\n",
              "        text-align: right;\n",
              "    }\n",
              "</style>\n",
              "<table border=\"1\" class=\"dataframe\">\n",
              "  <thead>\n",
              "    <tr style=\"text-align: right;\">\n",
              "      <th></th>\n",
              "      <th>Feature name</th>\n",
              "      <th>Useful</th>\n",
              "      <th>Irrelevant</th>\n",
              "      <th>Leaking</th>\n",
              "      <th>Comment/Justification</th>\n",
              "    </tr>\n",
              "  </thead>\n",
              "  <tbody>\n",
              "    <tr>\n",
              "      <th>0</th>\n",
              "      <td>encounter_id</td>\n",
              "      <td>NaN</td>\n",
              "      <td>1.0</td>\n",
              "      <td>NaN</td>\n",
              "      <td>Classifier - Primary Classifier for record</td>\n",
              "    </tr>\n",
              "    <tr>\n",
              "      <th>1</th>\n",
              "      <td>patient_id</td>\n",
              "      <td>NaN</td>\n",
              "      <td>1.0</td>\n",
              "      <td>NaN</td>\n",
              "      <td>Classifier - can have multiple ICU admissions</td>\n",
              "    </tr>\n",
              "    <tr>\n",
              "      <th>2</th>\n",
              "      <td>hospital_id</td>\n",
              "      <td>NaN</td>\n",
              "      <td>1.0</td>\n",
              "      <td>NaN</td>\n",
              "      <td>Classifier - wouldn't use it as covariate beca...</td>\n",
              "    </tr>\n",
              "    <tr>\n",
              "      <th>3</th>\n",
              "      <td>hospital_death</td>\n",
              "      <td>NaN</td>\n",
              "      <td>1.0</td>\n",
              "      <td>NaN</td>\n",
              "      <td>Outcome</td>\n",
              "    </tr>\n",
              "    <tr>\n",
              "      <th>4</th>\n",
              "      <td>age</td>\n",
              "      <td>1.0</td>\n",
              "      <td>NaN</td>\n",
              "      <td>NaN</td>\n",
              "      <td>Pre-existing condition/variable</td>\n",
              "    </tr>\n",
              "    <tr>\n",
              "      <th>...</th>\n",
              "      <td>...</td>\n",
              "      <td>...</td>\n",
              "      <td>...</td>\n",
              "      <td>...</td>\n",
              "      <td>...</td>\n",
              "    </tr>\n",
              "    <tr>\n",
              "      <th>193</th>\n",
              "      <td>leukemia</td>\n",
              "      <td>1.0</td>\n",
              "      <td>NaN</td>\n",
              "      <td>NaN</td>\n",
              "      <td>Pre-existing condition</td>\n",
              "    </tr>\n",
              "    <tr>\n",
              "      <th>194</th>\n",
              "      <td>lymphoma</td>\n",
              "      <td>1.0</td>\n",
              "      <td>NaN</td>\n",
              "      <td>NaN</td>\n",
              "      <td>Pre-existing condition</td>\n",
              "    </tr>\n",
              "    <tr>\n",
              "      <th>195</th>\n",
              "      <td>solid_tumor_with_metastasis</td>\n",
              "      <td>1.0</td>\n",
              "      <td>NaN</td>\n",
              "      <td>NaN</td>\n",
              "      <td>Pre-existing condition</td>\n",
              "    </tr>\n",
              "    <tr>\n",
              "      <th>196</th>\n",
              "      <td>apache_3j_bodysystem</td>\n",
              "      <td>1.0</td>\n",
              "      <td>NaN</td>\n",
              "      <td>NaN</td>\n",
              "      <td>OH - Your choice. May be included in the model...</td>\n",
              "    </tr>\n",
              "    <tr>\n",
              "      <th>197</th>\n",
              "      <td>apache_2_bodysystem</td>\n",
              "      <td>1.0</td>\n",
              "      <td>NaN</td>\n",
              "      <td>NaN</td>\n",
              "      <td>OH - Your choice. May be included in the model...</td>\n",
              "    </tr>\n",
              "  </tbody>\n",
              "</table>\n",
              "<p>198 rows × 5 columns</p>\n",
              "</div>"
            ],
            "text/plain": [
              "                    Feature name  Useful  Irrelevant  Leaking  \\\n",
              "0                   encounter_id     NaN         1.0      NaN   \n",
              "1                     patient_id     NaN         1.0      NaN   \n",
              "2                    hospital_id     NaN         1.0      NaN   \n",
              "3                 hospital_death     NaN         1.0      NaN   \n",
              "4                            age     1.0         NaN      NaN   \n",
              "..                           ...     ...         ...      ...   \n",
              "193                     leukemia     1.0         NaN      NaN   \n",
              "194                     lymphoma     1.0         NaN      NaN   \n",
              "195  solid_tumor_with_metastasis     1.0         NaN      NaN   \n",
              "196         apache_3j_bodysystem     1.0         NaN      NaN   \n",
              "197          apache_2_bodysystem     1.0         NaN      NaN   \n",
              "\n",
              "                                 Comment/Justification  \n",
              "0           Classifier - Primary Classifier for record  \n",
              "1        Classifier - can have multiple ICU admissions  \n",
              "2    Classifier - wouldn't use it as covariate beca...  \n",
              "3                                              Outcome  \n",
              "4                      Pre-existing condition/variable  \n",
              "..                                                 ...  \n",
              "193                             Pre-existing condition  \n",
              "194                             Pre-existing condition  \n",
              "195                             Pre-existing condition  \n",
              "196  OH - Your choice. May be included in the model...  \n",
              "197  OH - Your choice. May be included in the model...  \n",
              "\n",
              "[198 rows x 5 columns]"
            ]
          },
          "execution_count": 163,
          "metadata": {},
          "output_type": "execute_result"
        }
      ],
      "source": [
        "# df_features_all = pd.read_csv(os.path.join(path_to_data_folder, \"features_selected.csv\"), encoding='latin1')\n",
        "# features = df_features_all['Feature name'].to_numpy()\n",
        "# features = [s.strip('\\' ,') for s in features]\n",
        "# print(features[:5])\n",
        "# df_features_all['Feature name'] = features\n",
        "\n",
        "df_features_all = pd.read_csv(os.path.join(path_to_data_folder, \"features_selected_clean.csv\"))\n",
        "df_features_all\n"
      ]
    },
    {
      "cell_type": "code",
      "execution_count": 164,
      "metadata": {
        "id": "rcgBewwqUrHE"
      },
      "outputs": [],
      "source": [
        "#------YOUR CODE HERE--------\n",
        "# Enter the features corresponding to each category as a list below\n",
        "# category (a)\n",
        "# relevant features, all the features other than the ones listed below\n",
        "relevant_features = list(df_features_all[df_features_all['Useful'] == 1.0]['Feature name'].to_numpy())\n",
        "# category (b)\n",
        "irrelevant_features = list(df_features_all[df_features_all['Irrelevant'] == 1.0]['Feature name'].to_numpy())\n",
        "# category (c)\n",
        "potentially_leaky_features = list(df_features_all[df_features_all['Leaking'] == 1.0]['Feature name'].to_numpy())\n",
        "assert len(relevant_features) + len(irrelevant_features) + len(potentially_leaky_features) == df_features_all.shape[0]\n",
        "#------YOUR CODE ENDS--------\n",
        "\n",
        "# Features to drop: categories (b) and (c)\n",
        "features_to_drop = irrelevant_features + potentially_leaky_features\n",
        "\n",
        "# Ground truth labels\n",
        "label = \"hospital_death\""
      ]
    },
    {
      "cell_type": "markdown",
      "metadata": {
        "id": "4jDFZof1UrHF"
      },
      "source": [
        "(b)"
      ]
    },
    {
      "cell_type": "code",
      "execution_count": 165,
      "metadata": {},
      "outputs": [],
      "source": [
        "# Define the dataset and the target variable\n",
        "X = df.drop(columns=features_to_drop+[label])\n",
        "y = df[[label]]"
      ]
    },
    {
      "cell_type": "code",
      "execution_count": 166,
      "metadata": {},
      "outputs": [
        {
          "data": {
            "text/html": [
              "<div>\n",
              "<style scoped>\n",
              "    .dataframe tbody tr th:only-of-type {\n",
              "        vertical-align: middle;\n",
              "    }\n",
              "\n",
              "    .dataframe tbody tr th {\n",
              "        vertical-align: top;\n",
              "    }\n",
              "\n",
              "    .dataframe thead th {\n",
              "        text-align: right;\n",
              "    }\n",
              "</style>\n",
              "<table border=\"1\" class=\"dataframe\">\n",
              "  <thead>\n",
              "    <tr style=\"text-align: right;\">\n",
              "      <th></th>\n",
              "      <th>age</th>\n",
              "      <th>bmi</th>\n",
              "      <th>elective_surgery</th>\n",
              "      <th>ethnicity</th>\n",
              "      <th>gender</th>\n",
              "      <th>height</th>\n",
              "      <th>hospital_admit_source</th>\n",
              "      <th>icu_admit_source</th>\n",
              "      <th>icu_stay_type</th>\n",
              "      <th>icu_type</th>\n",
              "      <th>...</th>\n",
              "      <th>aids</th>\n",
              "      <th>cirrhosis</th>\n",
              "      <th>diabetes_mellitus</th>\n",
              "      <th>hepatic_failure</th>\n",
              "      <th>immunosuppression</th>\n",
              "      <th>leukemia</th>\n",
              "      <th>lymphoma</th>\n",
              "      <th>solid_tumor_with_metastasis</th>\n",
              "      <th>apache_3j_bodysystem</th>\n",
              "      <th>apache_2_bodysystem</th>\n",
              "    </tr>\n",
              "  </thead>\n",
              "  <tbody>\n",
              "    <tr>\n",
              "      <th>0</th>\n",
              "      <td>68.0</td>\n",
              "      <td>22.730000</td>\n",
              "      <td>0</td>\n",
              "      <td>Caucasian</td>\n",
              "      <td>M</td>\n",
              "      <td>180.3</td>\n",
              "      <td>Floor</td>\n",
              "      <td>Floor</td>\n",
              "      <td>admit</td>\n",
              "      <td>CTICU</td>\n",
              "      <td>...</td>\n",
              "      <td>0.0</td>\n",
              "      <td>0.0</td>\n",
              "      <td>1.0</td>\n",
              "      <td>0.0</td>\n",
              "      <td>0.0</td>\n",
              "      <td>0.0</td>\n",
              "      <td>0.0</td>\n",
              "      <td>0.0</td>\n",
              "      <td>Sepsis</td>\n",
              "      <td>Cardiovascular</td>\n",
              "    </tr>\n",
              "    <tr>\n",
              "      <th>1</th>\n",
              "      <td>77.0</td>\n",
              "      <td>27.420000</td>\n",
              "      <td>0</td>\n",
              "      <td>Caucasian</td>\n",
              "      <td>F</td>\n",
              "      <td>160.0</td>\n",
              "      <td>Floor</td>\n",
              "      <td>Floor</td>\n",
              "      <td>admit</td>\n",
              "      <td>Med-Surg ICU</td>\n",
              "      <td>...</td>\n",
              "      <td>0.0</td>\n",
              "      <td>0.0</td>\n",
              "      <td>1.0</td>\n",
              "      <td>0.0</td>\n",
              "      <td>0.0</td>\n",
              "      <td>0.0</td>\n",
              "      <td>0.0</td>\n",
              "      <td>0.0</td>\n",
              "      <td>Respiratory</td>\n",
              "      <td>Respiratory</td>\n",
              "    </tr>\n",
              "    <tr>\n",
              "      <th>2</th>\n",
              "      <td>25.0</td>\n",
              "      <td>31.950000</td>\n",
              "      <td>0</td>\n",
              "      <td>Caucasian</td>\n",
              "      <td>F</td>\n",
              "      <td>172.7</td>\n",
              "      <td>Emergency Department</td>\n",
              "      <td>Accident &amp; Emergency</td>\n",
              "      <td>admit</td>\n",
              "      <td>Med-Surg ICU</td>\n",
              "      <td>...</td>\n",
              "      <td>0.0</td>\n",
              "      <td>0.0</td>\n",
              "      <td>0.0</td>\n",
              "      <td>0.0</td>\n",
              "      <td>0.0</td>\n",
              "      <td>0.0</td>\n",
              "      <td>0.0</td>\n",
              "      <td>0.0</td>\n",
              "      <td>Metabolic</td>\n",
              "      <td>Metabolic</td>\n",
              "    </tr>\n",
              "    <tr>\n",
              "      <th>3</th>\n",
              "      <td>81.0</td>\n",
              "      <td>22.640000</td>\n",
              "      <td>1</td>\n",
              "      <td>Caucasian</td>\n",
              "      <td>F</td>\n",
              "      <td>165.1</td>\n",
              "      <td>Operating Room</td>\n",
              "      <td>Operating Room / Recovery</td>\n",
              "      <td>admit</td>\n",
              "      <td>CTICU</td>\n",
              "      <td>...</td>\n",
              "      <td>0.0</td>\n",
              "      <td>0.0</td>\n",
              "      <td>0.0</td>\n",
              "      <td>0.0</td>\n",
              "      <td>0.0</td>\n",
              "      <td>0.0</td>\n",
              "      <td>0.0</td>\n",
              "      <td>0.0</td>\n",
              "      <td>Cardiovascular</td>\n",
              "      <td>Cardiovascular</td>\n",
              "    </tr>\n",
              "    <tr>\n",
              "      <th>4</th>\n",
              "      <td>19.0</td>\n",
              "      <td>NaN</td>\n",
              "      <td>0</td>\n",
              "      <td>Caucasian</td>\n",
              "      <td>M</td>\n",
              "      <td>188.0</td>\n",
              "      <td>NaN</td>\n",
              "      <td>Accident &amp; Emergency</td>\n",
              "      <td>admit</td>\n",
              "      <td>Med-Surg ICU</td>\n",
              "      <td>...</td>\n",
              "      <td>0.0</td>\n",
              "      <td>0.0</td>\n",
              "      <td>0.0</td>\n",
              "      <td>0.0</td>\n",
              "      <td>0.0</td>\n",
              "      <td>0.0</td>\n",
              "      <td>0.0</td>\n",
              "      <td>0.0</td>\n",
              "      <td>Trauma</td>\n",
              "      <td>Trauma</td>\n",
              "    </tr>\n",
              "    <tr>\n",
              "      <th>...</th>\n",
              "      <td>...</td>\n",
              "      <td>...</td>\n",
              "      <td>...</td>\n",
              "      <td>...</td>\n",
              "      <td>...</td>\n",
              "      <td>...</td>\n",
              "      <td>...</td>\n",
              "      <td>...</td>\n",
              "      <td>...</td>\n",
              "      <td>...</td>\n",
              "      <td>...</td>\n",
              "      <td>...</td>\n",
              "      <td>...</td>\n",
              "      <td>...</td>\n",
              "      <td>...</td>\n",
              "      <td>...</td>\n",
              "      <td>...</td>\n",
              "      <td>...</td>\n",
              "      <td>...</td>\n",
              "      <td>...</td>\n",
              "      <td>...</td>\n",
              "    </tr>\n",
              "    <tr>\n",
              "      <th>91708</th>\n",
              "      <td>75.0</td>\n",
              "      <td>23.060250</td>\n",
              "      <td>0</td>\n",
              "      <td>Caucasian</td>\n",
              "      <td>M</td>\n",
              "      <td>177.8</td>\n",
              "      <td>Acute Care/Floor</td>\n",
              "      <td>Floor</td>\n",
              "      <td>admit</td>\n",
              "      <td>Cardiac ICU</td>\n",
              "      <td>...</td>\n",
              "      <td>0.0</td>\n",
              "      <td>0.0</td>\n",
              "      <td>1.0</td>\n",
              "      <td>0.0</td>\n",
              "      <td>0.0</td>\n",
              "      <td>0.0</td>\n",
              "      <td>0.0</td>\n",
              "      <td>1.0</td>\n",
              "      <td>Sepsis</td>\n",
              "      <td>Cardiovascular</td>\n",
              "    </tr>\n",
              "    <tr>\n",
              "      <th>91709</th>\n",
              "      <td>56.0</td>\n",
              "      <td>47.179671</td>\n",
              "      <td>0</td>\n",
              "      <td>Caucasian</td>\n",
              "      <td>F</td>\n",
              "      <td>183.0</td>\n",
              "      <td>Emergency Department</td>\n",
              "      <td>Floor</td>\n",
              "      <td>admit</td>\n",
              "      <td>Med-Surg ICU</td>\n",
              "      <td>...</td>\n",
              "      <td>0.0</td>\n",
              "      <td>0.0</td>\n",
              "      <td>0.0</td>\n",
              "      <td>0.0</td>\n",
              "      <td>0.0</td>\n",
              "      <td>0.0</td>\n",
              "      <td>0.0</td>\n",
              "      <td>0.0</td>\n",
              "      <td>Sepsis</td>\n",
              "      <td>Cardiovascular</td>\n",
              "    </tr>\n",
              "    <tr>\n",
              "      <th>91710</th>\n",
              "      <td>48.0</td>\n",
              "      <td>27.236914</td>\n",
              "      <td>0</td>\n",
              "      <td>Caucasian</td>\n",
              "      <td>M</td>\n",
              "      <td>170.2</td>\n",
              "      <td>Emergency Department</td>\n",
              "      <td>Accident &amp; Emergency</td>\n",
              "      <td>admit</td>\n",
              "      <td>Med-Surg ICU</td>\n",
              "      <td>...</td>\n",
              "      <td>0.0</td>\n",
              "      <td>0.0</td>\n",
              "      <td>1.0</td>\n",
              "      <td>0.0</td>\n",
              "      <td>0.0</td>\n",
              "      <td>0.0</td>\n",
              "      <td>0.0</td>\n",
              "      <td>0.0</td>\n",
              "      <td>Metabolic</td>\n",
              "      <td>Metabolic</td>\n",
              "    </tr>\n",
              "    <tr>\n",
              "      <th>91711</th>\n",
              "      <td>NaN</td>\n",
              "      <td>23.297481</td>\n",
              "      <td>0</td>\n",
              "      <td>Caucasian</td>\n",
              "      <td>F</td>\n",
              "      <td>154.9</td>\n",
              "      <td>Emergency Department</td>\n",
              "      <td>Accident &amp; Emergency</td>\n",
              "      <td>admit</td>\n",
              "      <td>Med-Surg ICU</td>\n",
              "      <td>...</td>\n",
              "      <td>0.0</td>\n",
              "      <td>0.0</td>\n",
              "      <td>0.0</td>\n",
              "      <td>0.0</td>\n",
              "      <td>0.0</td>\n",
              "      <td>0.0</td>\n",
              "      <td>0.0</td>\n",
              "      <td>0.0</td>\n",
              "      <td>Respiratory</td>\n",
              "      <td>Respiratory</td>\n",
              "    </tr>\n",
              "    <tr>\n",
              "      <th>91712</th>\n",
              "      <td>82.0</td>\n",
              "      <td>22.031250</td>\n",
              "      <td>1</td>\n",
              "      <td>Caucasian</td>\n",
              "      <td>F</td>\n",
              "      <td>160.0</td>\n",
              "      <td>NaN</td>\n",
              "      <td>Operating Room / Recovery</td>\n",
              "      <td>admit</td>\n",
              "      <td>Med-Surg ICU</td>\n",
              "      <td>...</td>\n",
              "      <td>0.0</td>\n",
              "      <td>0.0</td>\n",
              "      <td>0.0</td>\n",
              "      <td>0.0</td>\n",
              "      <td>0.0</td>\n",
              "      <td>0.0</td>\n",
              "      <td>0.0</td>\n",
              "      <td>0.0</td>\n",
              "      <td>Gastrointestinal</td>\n",
              "      <td>Gastrointestinal</td>\n",
              "    </tr>\n",
              "  </tbody>\n",
              "</table>\n",
              "<p>91713 rows × 177 columns</p>\n",
              "</div>"
            ],
            "text/plain": [
              "        age        bmi  elective_surgery  ethnicity gender  height  \\\n",
              "0      68.0  22.730000                 0  Caucasian      M   180.3   \n",
              "1      77.0  27.420000                 0  Caucasian      F   160.0   \n",
              "2      25.0  31.950000                 0  Caucasian      F   172.7   \n",
              "3      81.0  22.640000                 1  Caucasian      F   165.1   \n",
              "4      19.0        NaN                 0  Caucasian      M   188.0   \n",
              "...     ...        ...               ...        ...    ...     ...   \n",
              "91708  75.0  23.060250                 0  Caucasian      M   177.8   \n",
              "91709  56.0  47.179671                 0  Caucasian      F   183.0   \n",
              "91710  48.0  27.236914                 0  Caucasian      M   170.2   \n",
              "91711   NaN  23.297481                 0  Caucasian      F   154.9   \n",
              "91712  82.0  22.031250                 1  Caucasian      F   160.0   \n",
              "\n",
              "      hospital_admit_source           icu_admit_source icu_stay_type  \\\n",
              "0                     Floor                      Floor         admit   \n",
              "1                     Floor                      Floor         admit   \n",
              "2      Emergency Department       Accident & Emergency         admit   \n",
              "3            Operating Room  Operating Room / Recovery         admit   \n",
              "4                       NaN       Accident & Emergency         admit   \n",
              "...                     ...                        ...           ...   \n",
              "91708      Acute Care/Floor                      Floor         admit   \n",
              "91709  Emergency Department                      Floor         admit   \n",
              "91710  Emergency Department       Accident & Emergency         admit   \n",
              "91711  Emergency Department       Accident & Emergency         admit   \n",
              "91712                   NaN  Operating Room / Recovery         admit   \n",
              "\n",
              "           icu_type  ...  aids  cirrhosis  diabetes_mellitus  hepatic_failure  \\\n",
              "0             CTICU  ...   0.0        0.0                1.0              0.0   \n",
              "1      Med-Surg ICU  ...   0.0        0.0                1.0              0.0   \n",
              "2      Med-Surg ICU  ...   0.0        0.0                0.0              0.0   \n",
              "3             CTICU  ...   0.0        0.0                0.0              0.0   \n",
              "4      Med-Surg ICU  ...   0.0        0.0                0.0              0.0   \n",
              "...             ...  ...   ...        ...                ...              ...   \n",
              "91708   Cardiac ICU  ...   0.0        0.0                1.0              0.0   \n",
              "91709  Med-Surg ICU  ...   0.0        0.0                0.0              0.0   \n",
              "91710  Med-Surg ICU  ...   0.0        0.0                1.0              0.0   \n",
              "91711  Med-Surg ICU  ...   0.0        0.0                0.0              0.0   \n",
              "91712  Med-Surg ICU  ...   0.0        0.0                0.0              0.0   \n",
              "\n",
              "       immunosuppression  leukemia  lymphoma  solid_tumor_with_metastasis  \\\n",
              "0                    0.0       0.0       0.0                          0.0   \n",
              "1                    0.0       0.0       0.0                          0.0   \n",
              "2                    0.0       0.0       0.0                          0.0   \n",
              "3                    0.0       0.0       0.0                          0.0   \n",
              "4                    0.0       0.0       0.0                          0.0   \n",
              "...                  ...       ...       ...                          ...   \n",
              "91708                0.0       0.0       0.0                          1.0   \n",
              "91709                0.0       0.0       0.0                          0.0   \n",
              "91710                0.0       0.0       0.0                          0.0   \n",
              "91711                0.0       0.0       0.0                          0.0   \n",
              "91712                0.0       0.0       0.0                          0.0   \n",
              "\n",
              "       apache_3j_bodysystem  apache_2_bodysystem  \n",
              "0                    Sepsis       Cardiovascular  \n",
              "1               Respiratory          Respiratory  \n",
              "2                 Metabolic            Metabolic  \n",
              "3            Cardiovascular       Cardiovascular  \n",
              "4                    Trauma               Trauma  \n",
              "...                     ...                  ...  \n",
              "91708                Sepsis       Cardiovascular  \n",
              "91709                Sepsis       Cardiovascular  \n",
              "91710             Metabolic            Metabolic  \n",
              "91711           Respiratory          Respiratory  \n",
              "91712      Gastrointestinal     Gastrointestinal  \n",
              "\n",
              "[91713 rows x 177 columns]"
            ]
          },
          "execution_count": 166,
          "metadata": {},
          "output_type": "execute_result"
        }
      ],
      "source": [
        "df_relevant = df[relevant_features]\n",
        "df_relevant"
      ]
    },
    {
      "cell_type": "code",
      "execution_count": 167,
      "metadata": {},
      "outputs": [
        {
          "name": "stderr",
          "output_type": "stream",
          "text": [
            "/var/folders/53/dfp4pcm53wb21f6mj9z7rtk80000gn/T/ipykernel_6050/4262034702.py:5: FutureWarning: In a future version of pandas all arguments of Series.dropna will be keyword-only.\n",
            "  arr_uni = df_relevant[col].dropna(0).unique()\n"
          ]
        },
        {
          "name": "stdout",
          "output_type": "stream",
          "text": [
            "Binary! [0 1]\n",
            "Binary! ['M' 'F']\n",
            "Binary! [0 1]\n",
            "Binary! [0. 1.]\n",
            "Binary! [0. 1.]\n",
            "Binary! [0. 1.]\n",
            "Binary! [0. 1.]\n",
            "Binary! [0. 1.]\n",
            "Binary! [0. 1.]\n",
            "Binary! [1. 0.]\n",
            "Binary! [0. 1.]\n",
            "Binary! [0. 1.]\n",
            "Binary! [0. 1.]\n",
            "Binary! [0. 1.]\n",
            "Binary! [0. 1.]\n"
          ]
        },
        {
          "data": {
            "text/plain": [
              "['elective_surgery',\n",
              " 'gender',\n",
              " 'apache_post_operative',\n",
              " 'arf_apache',\n",
              " 'gcs_unable_apache',\n",
              " 'intubated_apache',\n",
              " 'ventilated_apache',\n",
              " 'aids',\n",
              " 'cirrhosis',\n",
              " 'diabetes_mellitus',\n",
              " 'hepatic_failure',\n",
              " 'immunosuppression',\n",
              " 'leukemia',\n",
              " 'lymphoma',\n",
              " 'solid_tumor_with_metastasis']"
            ]
          },
          "execution_count": 167,
          "metadata": {},
          "output_type": "execute_result"
        }
      ],
      "source": [
        "remaining_binary_features = []\n",
        "\n",
        "for col in df_relevant.columns:\n",
        "    # drop nan values in the array\n",
        "    arr_uni = df_relevant[col].dropna(0).unique()\n",
        "    n_outcome = arr_uni.shape[0]\n",
        "\n",
        "    if n_outcome == 2: \n",
        "        print('Binary!', arr_uni)\n",
        "        remaining_binary_features.append(col)\n",
        "remaining_binary_features    "
      ]
    },
    {
      "cell_type": "code",
      "execution_count": 168,
      "metadata": {
        "id": "xFNDeiRlUrHG"
      },
      "outputs": [],
      "source": [
        "# Define the dataset and the target variable\n",
        "X = df.drop(columns=features_to_drop+[label])\n",
        "y = df[[label]]\n",
        "# Populate the following list with the names of the binary features\n",
        "# that you didn't drop from the dataset\n",
        "#------YOUR CODE HERE--------\n",
        "#remaining_binary_features = [\"feature1\", \"feature2\", \"feature3\"]\n",
        "\n",
        "# cast gender into 1 and 0\n",
        "gender_series = X['gender'].replace('M',1)\n",
        "gender_series = gender_series.replace('F',0)\n",
        "X['gender'] = gender_series\n",
        "\n",
        "\n",
        "#------YOUR CODE ENDS--------\n",
        "\n",
        "# Convert binary features into strings\n",
        "# (to apply a specific preprocessing pipeline to those features later)\n",
        "for c in remaining_binary_features:\n",
        "    X[c] = X[c].fillna(-1)\n",
        "    X[c] = X[c].astype(int)\n",
        "    X[c] = X[c].astype(str)\n",
        "    X[c] = X[c].replace(\"-1\", np.nan)"
      ]
    },
    {
      "cell_type": "code",
      "execution_count": 169,
      "metadata": {},
      "outputs": [
        {
          "data": {
            "text/plain": [
              "array(['Caucasian', nan, 'Hispanic', 'African American', 'Asian',\n",
              "       'Native American', 'Other/Unknown'], dtype=object)"
            ]
          },
          "execution_count": 169,
          "metadata": {},
          "output_type": "execute_result"
        }
      ],
      "source": [
        "X['ethnicity'].unique()"
      ]
    },
    {
      "cell_type": "code",
      "execution_count": 170,
      "metadata": {
        "id": "-0hj1gw3UrHG"
      },
      "outputs": [],
      "source": [
        "# Preprocessing pipeline\n",
        "from sklearn.preprocessing import StandardScaler, OneHotEncoder\n",
        "from sklearn.compose import ColumnTransformer, make_column_selector as selector\n",
        "from sklearn.impute import SimpleImputer\n",
        "from sklearn.pipeline import Pipeline\n",
        "\n",
        "#------YOUR CODE HERE--------\n",
        "# Each of the below transformers should be either a preprocessing step\n",
        "# (i.e. a scaler/encoder/imputer) or a pipeline (chain) of preprocessing\n",
        "# steps\n",
        "\n",
        "# For numerical features\n",
        "numeric_transformer = Pipeline([('std', StandardScaler()),('impute',SimpleImputer(strategy='mean'))])\n",
        "\n",
        "# For categorical features\n",
        "categorical_transformer = OneHotEncoder()\n",
        "#------YOUR CODE ENDS--------\n",
        "\n",
        "preprocessing = ColumnTransformer(\n",
        "    transformers=[\n",
        "        (\n",
        "            \"num\",\n",
        "            numeric_transformer,\n",
        "            selector(dtype_exclude=[\"category\", object, \"string\"]),\n",
        "        ),\n",
        "        (\n",
        "            \"cat\",\n",
        "            categorical_transformer,\n",
        "            selector(dtype_include=[\"category\", object, \"string\"]),\n",
        "        ),\n",
        "    ]\n",
        ")\n",
        "\n",
        "preprocessing_pipeline = Pipeline(\n",
        "    steps=[(\"preprocessing\", preprocessing)]\n",
        ")"
      ]
    },
    {
      "cell_type": "code",
      "execution_count": 171,
      "metadata": {
        "id": "iRDVIDe-UrHH"
      },
      "outputs": [],
      "source": [
        "# Split the dataset into an 80%/20% train-test split\n",
        "from sklearn.model_selection import train_test_split\n",
        "\n",
        "X_train_raw, X_test_raw, y_train, y_test = train_test_split(X, y, test_size=0.2, shuffle=True, random_state=42)"
      ]
    },
    {
      "cell_type": "code",
      "execution_count": 172,
      "metadata": {
        "id": "fhKd2ZQCUrHI"
      },
      "outputs": [
        {
          "name": "stderr",
          "output_type": "stream",
          "text": [
            "/Users/mma0706/opt/anaconda3/lib/python3.9/site-packages/sklearn/utils/deprecation.py:87: FutureWarning: Function get_feature_names is deprecated; get_feature_names is deprecated in 1.0 and will be removed in 1.2. Please use get_feature_names_out instead.\n",
            "  warnings.warn(msg, category=FutureWarning)\n"
          ]
        }
      ],
      "source": [
        "# Train the preprocessing pipeline on the train set and apply it on the test set\n",
        "X_train = preprocessing_pipeline.fit_transform(X_train_raw)  # fit on train set\n",
        "# extract new feature names\n",
        "feature_names = list(preprocessing_pipeline[0].transformers_[0][2]) + list(preprocessing_pipeline[0].transformers_[1][1].get_feature_names())\n",
        "X_train = pd.DataFrame(X_train, columns=feature_names)  # to dataframe type\n",
        "# apply preprocessing pipeline to test set\n",
        "X_test = pd.DataFrame(preprocessing_pipeline.transform(X_test_raw), columns=feature_names)"
      ]
    },
    {
      "cell_type": "markdown",
      "metadata": {
        "id": "iKYQWhItUrHI"
      },
      "source": [
        "(c)"
      ]
    },
    {
      "cell_type": "code",
      "execution_count": 173,
      "metadata": {
        "id": "4xCizBmxUrHI"
      },
      "outputs": [
        {
          "name": "stderr",
          "output_type": "stream",
          "text": [
            "/Users/mma0706/opt/anaconda3/lib/python3.9/site-packages/sklearn/utils/validation.py:1111: DataConversionWarning: A column-vector y was passed when a 1d array was expected. Please change the shape of y to (n_samples, ), for example using ravel().\n",
            "  y = column_or_1d(y, warn=True)\n"
          ]
        }
      ],
      "source": [
        "from sklearn.linear_model import LogisticRegression\n",
        "\n",
        "# Create and fit a logistic regression model\n",
        "#------YOUR CODE HERE--------\n",
        "clf_log = LogisticRegression(random_state=42, max_iter=1000).fit(X_train, y_train)\n",
        "#------YOUR CODE ENDS--------"
      ]
    },
    {
      "cell_type": "code",
      "execution_count": 190,
      "metadata": {
        "id": "eOi-bTwtUrHJ"
      },
      "outputs": [],
      "source": [
        "from sklearn.metrics import accuracy_score, precision_score, recall_score, f1_score, roc_auc_score\n",
        "from collections import defaultdict\n",
        "\n",
        "from torchmetrics import F1Score\n",
        "\n",
        "#------YOUR CODE HERE--------\n",
        "# Fill out the following function to compute and return the different\n",
        "# performance metrics of the input model. This is to avoid copying\n",
        "# the same code to compute the metrics for each model\n",
        "def evaluate_model(model, X_train = X_train, y_train = y_train, X_test = X_test, y_test = y_test, sample_weight=None, printout = False):\n",
        "    # test set\n",
        "    y_pred = model.predict(X_test) \n",
        "    acc = accuracy_score(y_test, y_pred)\n",
        "    precision = precision_score(y_test, y_pred)\n",
        "    recall = recall_score(y_test, y_pred)\n",
        "    f1 = f1_score(y_test, y_pred)\n",
        "    roc = roc_auc_score(y_test, y_pred)\n",
        "    stats_test = [acc, precision, recall, f1, roc]\n",
        "    if printout:\n",
        "        print(f'Test: \\nAccuracy: {acc}\\nPrecision: {precision}\\nRecall: {recall}\\nF1: {f1}\\nAUC: {roc}\\n')\n",
        "    \n",
        "\n",
        "    # training set\n",
        "    y_pred = model.predict(X_train) \n",
        "    acc = accuracy_score(y_train, y_pred)\n",
        "    precision = precision_score(y_train, y_pred)\n",
        "    recall = recall_score(y_train, y_pred)\n",
        "    f1 = f1_score(y_train, y_pred)\n",
        "    roc = roc_auc_score(y_train, y_pred)\n",
        "\n",
        "    stats_train = [acc, precision, recall, f1, roc]\n",
        "    if printout:\n",
        "        print(f'Train: \\nAccuracy: {acc}\\nPrecision: {precision}\\nRecall: {recall}\\nF1: {f1}\\nAUC: {roc}\\n')\n",
        "    \n",
        "\n",
        "    df_metrics = pd.DataFrame(data= {'Train': stats_train, 'Test': stats_test},  \n",
        "                        index=['Accuracy', 'Precision', 'Recall', 'F1-score','AUC score'])\n",
        "    return df_metrics\n",
        "\n",
        "#------YOUR CODE ENDS--------"
      ]
    },
    {
      "cell_type": "code",
      "execution_count": 197,
      "metadata": {
        "id": "ZUVgmepsUrHK"
      },
      "outputs": [
        {
          "data": {
            "text/html": [
              "<div>\n",
              "<style scoped>\n",
              "    .dataframe tbody tr th:only-of-type {\n",
              "        vertical-align: middle;\n",
              "    }\n",
              "\n",
              "    .dataframe tbody tr th {\n",
              "        vertical-align: top;\n",
              "    }\n",
              "\n",
              "    .dataframe thead th {\n",
              "        text-align: right;\n",
              "    }\n",
              "</style>\n",
              "<table border=\"1\" class=\"dataframe\">\n",
              "  <thead>\n",
              "    <tr style=\"text-align: right;\">\n",
              "      <th></th>\n",
              "      <th>Train</th>\n",
              "      <th>Test</th>\n",
              "    </tr>\n",
              "  </thead>\n",
              "  <tbody>\n",
              "    <tr>\n",
              "      <th>Accuracy</th>\n",
              "      <td>0.927981</td>\n",
              "      <td>0.926348</td>\n",
              "    </tr>\n",
              "    <tr>\n",
              "      <th>Precision</th>\n",
              "      <td>0.691771</td>\n",
              "      <td>0.674556</td>\n",
              "    </tr>\n",
              "    <tr>\n",
              "      <th>Recall</th>\n",
              "      <td>0.297566</td>\n",
              "      <td>0.287335</td>\n",
              "    </tr>\n",
              "    <tr>\n",
              "      <th>F1-score</th>\n",
              "      <td>0.416133</td>\n",
              "      <td>0.403005</td>\n",
              "    </tr>\n",
              "    <tr>\n",
              "      <th>AUC score</th>\n",
              "      <td>0.642526</td>\n",
              "      <td>0.637102</td>\n",
              "    </tr>\n",
              "  </tbody>\n",
              "</table>\n",
              "</div>"
            ],
            "text/plain": [
              "              Train      Test\n",
              "Accuracy   0.927981  0.926348\n",
              "Precision  0.691771  0.674556\n",
              "Recall     0.297566  0.287335\n",
              "F1-score   0.416133  0.403005\n",
              "AUC score  0.642526  0.637102"
            ]
          },
          "execution_count": 197,
          "metadata": {},
          "output_type": "execute_result"
        }
      ],
      "source": [
        "# Use evaluate_model to compute the different performance metrics for your linear regression model\n",
        "#------YOUR CODE HERE--------\n",
        "eval_log = evaluate_model(clf_log)\n",
        "eval_log\n",
        "#------YOUR CODE ENDS--------"
      ]
    },
    {
      "cell_type": "markdown",
      "metadata": {
        "id": "uHaRBC2bUrHK"
      },
      "source": [
        "(d)"
      ]
    },
    {
      "cell_type": "code",
      "execution_count": 188,
      "metadata": {
        "id": "ihm69dntUrHK"
      },
      "outputs": [
        {
          "name": "stderr",
          "output_type": "stream",
          "text": [
            "/var/folders/53/dfp4pcm53wb21f6mj9z7rtk80000gn/T/ipykernel_6050/3334003845.py:6: DataConversionWarning: A column-vector y was passed when a 1d array was expected. Please change the shape of y to (n_samples,), for example using ravel().\n",
            "  clf_RF = RandomForestClassifier(max_depth=None, random_state=42).fit(X_train, y_train)\n"
          ]
        }
      ],
      "source": [
        "from sklearn.ensemble import RandomForestClassifier\n",
        "\n",
        "# Create and fit a random forest\n",
        "# Use random_state=42 for consistency\n",
        "#------YOUR CODE HERE--------\n",
        "clf_RF = RandomForestClassifier(max_depth=None, random_state=42).fit(X_train, y_train)\n",
        "#------YOUR CODE ENDS--------"
      ]
    },
    {
      "cell_type": "code",
      "execution_count": 196,
      "metadata": {
        "id": "U81UxmaIUrHL"
      },
      "outputs": [
        {
          "data": {
            "text/html": [
              "<div>\n",
              "<style scoped>\n",
              "    .dataframe tbody tr th:only-of-type {\n",
              "        vertical-align: middle;\n",
              "    }\n",
              "\n",
              "    .dataframe tbody tr th {\n",
              "        vertical-align: top;\n",
              "    }\n",
              "\n",
              "    .dataframe thead th {\n",
              "        text-align: right;\n",
              "    }\n",
              "</style>\n",
              "<table border=\"1\" class=\"dataframe\">\n",
              "  <thead>\n",
              "    <tr style=\"text-align: right;\">\n",
              "      <th></th>\n",
              "      <th>Train</th>\n",
              "      <th>Test</th>\n",
              "    </tr>\n",
              "  </thead>\n",
              "  <tbody>\n",
              "    <tr>\n",
              "      <th>Accuracy</th>\n",
              "      <td>1.0</td>\n",
              "      <td>0.929128</td>\n",
              "    </tr>\n",
              "    <tr>\n",
              "      <th>Precision</th>\n",
              "      <td>1.0</td>\n",
              "      <td>0.783037</td>\n",
              "    </tr>\n",
              "    <tr>\n",
              "      <th>Recall</th>\n",
              "      <td>1.0</td>\n",
              "      <td>0.250158</td>\n",
              "    </tr>\n",
              "    <tr>\n",
              "      <th>F1-score</th>\n",
              "      <td>1.0</td>\n",
              "      <td>0.379179</td>\n",
              "    </tr>\n",
              "    <tr>\n",
              "      <th>AUC score</th>\n",
              "      <td>1.0</td>\n",
              "      <td>0.621796</td>\n",
              "    </tr>\n",
              "  </tbody>\n",
              "</table>\n",
              "</div>"
            ],
            "text/plain": [
              "           Train      Test\n",
              "Accuracy     1.0  0.929128\n",
              "Precision    1.0  0.783037\n",
              "Recall       1.0  0.250158\n",
              "F1-score     1.0  0.379179\n",
              "AUC score    1.0  0.621796"
            ]
          },
          "execution_count": 196,
          "metadata": {},
          "output_type": "execute_result"
        }
      ],
      "source": [
        "# Use evaluate_model to compute the different performance metrics for your random forest\n",
        "#------YOUR CODE HERE--------\n",
        "eval_rf = evaluate_model(clf_RF)\n",
        "eval_rf\n",
        "#------YOUR CODE ENDS--------"
      ]
    },
    {
      "cell_type": "code",
      "execution_count": 178,
      "metadata": {
        "id": "PseP_LeWUrHK"
      },
      "outputs": [],
      "source": [
        "import xgboost\n",
        "# Create and fit an xgboost model\n",
        "# Use random_state=42 for consistency\n",
        "#------YOUR CODE HERE--------\n",
        "# define the model\n",
        "xgbRF = xgboost.XGBRFClassifier(n_estimators=100, subsample=0.9).fit(X_train, y_train)\n",
        "#------YOUR CODE ENDS--------\n"
      ]
    },
    {
      "cell_type": "code",
      "execution_count": 199,
      "metadata": {
        "id": "vmHhhHkfUrHL"
      },
      "outputs": [
        {
          "data": {
            "text/html": [
              "<div>\n",
              "<style scoped>\n",
              "    .dataframe tbody tr th:only-of-type {\n",
              "        vertical-align: middle;\n",
              "    }\n",
              "\n",
              "    .dataframe tbody tr th {\n",
              "        vertical-align: top;\n",
              "    }\n",
              "\n",
              "    .dataframe thead th {\n",
              "        text-align: right;\n",
              "    }\n",
              "</style>\n",
              "<table border=\"1\" class=\"dataframe\">\n",
              "  <thead>\n",
              "    <tr style=\"text-align: right;\">\n",
              "      <th></th>\n",
              "      <th>Train</th>\n",
              "      <th>Test</th>\n",
              "    </tr>\n",
              "  </thead>\n",
              "  <tbody>\n",
              "    <tr>\n",
              "      <th>Accuracy</th>\n",
              "      <td>0.929685</td>\n",
              "      <td>0.926075</td>\n",
              "    </tr>\n",
              "    <tr>\n",
              "      <th>Precision</th>\n",
              "      <td>0.843621</td>\n",
              "      <td>0.760722</td>\n",
              "    </tr>\n",
              "    <tr>\n",
              "      <th>Recall</th>\n",
              "      <td>0.226770</td>\n",
              "      <td>0.212350</td>\n",
              "    </tr>\n",
              "    <tr>\n",
              "      <th>F1-score</th>\n",
              "      <td>0.357454</td>\n",
              "      <td>0.332020</td>\n",
              "    </tr>\n",
              "    <tr>\n",
              "      <th>AUC score</th>\n",
              "      <td>0.611401</td>\n",
              "      <td>0.603012</td>\n",
              "    </tr>\n",
              "  </tbody>\n",
              "</table>\n",
              "</div>"
            ],
            "text/plain": [
              "              Train      Test\n",
              "Accuracy   0.929685  0.926075\n",
              "Precision  0.843621  0.760722\n",
              "Recall     0.226770  0.212350\n",
              "F1-score   0.357454  0.332020\n",
              "AUC score  0.611401  0.603012"
            ]
          },
          "execution_count": 199,
          "metadata": {},
          "output_type": "execute_result"
        }
      ],
      "source": [
        "# Use evaluate_model to compute the different performance metrics for your xgboost model\n",
        "#------YOUR CODE HERE--------\n",
        "eval_xgb = evaluate_model(xgbRF)\n",
        "eval_xgb\n",
        "#------YOUR CODE ENDS--------"
      ]
    },
    {
      "cell_type": "markdown",
      "metadata": {
        "id": "tGkZCRUaUrHL"
      },
      "source": [
        "(e)"
      ]
    },
    {
      "cell_type": "code",
      "execution_count": 203,
      "metadata": {
        "id": "IdzBtJRLUrHL"
      },
      "outputs": [
        {
          "data": {
            "image/png": "[encoded data removed]",
            "text/plain": [
              "<Figure size 640x480 with 1 Axes>"
            ]
          },
          "metadata": {},
          "output_type": "display_data"
        },
        {
          "data": {
            "image/png": "[encoded data removed]",
            "text/plain": [
              "<Figure size 640x480 with 1 Axes>"
            ]
          },
          "metadata": {},
          "output_type": "display_data"
        }
      ],
      "source": [
        "# Plot the performance metrics on a histogram\n",
        "# You may use any python library of your choice\n",
        "#------YOUR CODE HERE--------\n",
        "import seaborn as sns\n",
        "import matplotlib.pyplot as plt\n",
        "plt.ylim(0.3, 1.3)\n",
        "models = [\"Logistic Regression\", \"Random Forest\", \"Xgboost\"]\n",
        "metrics = ['Accuracy', 'Precision', 'Recall', 'F1-score', 'AUC score']\n",
        "train_hist = pd.concat([eval_log['Train'], eval_rf['Train'], eval_xgb['Train']],axis=1)\n",
        "a=[e for model in zip(*[models]*5) for e in model]\n",
        "d = train_hist.melt()\n",
        "d['models'] = a\n",
        "d['variable'] = metrics *3\n",
        "plt.title(\"Histogram of the model performances (Training set)\")\n",
        "sns.barplot(y='value',x='variable',hue='models',data=d)\n",
        "plt.show()\n",
        "\n",
        "\n",
        "plt.ylim(0.0, 1.0)\n",
        "models = [\"Logistic Regression\", \"Random Forest\", \"Xgboost\"]\n",
        "metrics = ['Accuracy', 'Precision', 'Recall', 'F1-score', 'AUC score']\n",
        "train_hist = pd.concat([eval_log['Test'], eval_rf['Test'], eval_xgb['Test']],axis=1)\n",
        "models_rep =[e for model in zip(*[models]*5) for e in model]\n",
        "d = train_hist.melt()\n",
        "d['models'] = models_rep\n",
        "d['variable'] = metrics *3\n",
        "plt.title(\"Histogram of the model performances (Test set)\")\n",
        "sns.barplot(y='value',x='variable',hue='models',data=d)\n",
        "plt.show()\n",
        "#------YOUR CODE ENDS--------"
      ]
    },
    {
      "cell_type": "markdown",
      "metadata": {
        "id": "kEZEQAyLUrHM"
      },
      "source": [
        "(f) (answer this in your report)"
      ]
    },
    {
      "cell_type": "markdown",
      "metadata": {
        "id": "GDqiBk18UrHN"
      },
      "source": [
        "(g)"
      ]
    },
    {
      "cell_type": "code",
      "execution_count": 1,
      "metadata": {
        "id": "07c15Mh9UrHN"
      },
      "outputs": [],
      "source": [
        "#! pip install shap"
      ]
    },
    {
      "cell_type": "code",
      "execution_count": 35,
      "metadata": {
        "id": "UuonrnW3UrHN"
      },
      "outputs": [
        {
          "data": {
            "image/png": "[encoded data removed]",
            "text/plain": [
              "<Figure size 800x550 with 2 Axes>"
            ]
          },
          "metadata": {},
          "output_type": "display_data"
        }
      ],
      "source": [
        "import shap\n",
        "\n",
        "# Compute and plot the shapley values of the xgboost model on a beeswarm plot\n",
        "#------YOUR CODE HERE--------\n",
        "# explain the model's predictions using SHAP\n",
        "# (same syntax works for LightGBM, CatBoost, scikit-learn, transformers, Spark, etc.)\n",
        "explainer = shap.Explainer(xgbRF)\n",
        "shap_values = explainer(X_train)\n",
        "\n",
        "# visualize the first prediction's explanation\n",
        "#shap.plots.waterfall(shap_values[0])\n",
        "\n",
        "# summarize the effects of all the features\n",
        "shap.plots.beeswarm(shap_values)\n",
        "#------YOUR CODE ENDS--------"
      ]
    },
    {
      "cell_type": "markdown",
      "metadata": {
        "id": "GxDmxeg2UrHO"
      },
      "source": [
        "(h)"
      ]
    },
    {
      "cell_type": "code",
      "execution_count": 176,
      "metadata": {
        "id": "BkWrf7X6UrHO"
      },
      "outputs": [],
      "source": [
        "# Split the test set into cohorts in three different ways\n",
        "# Remember to split both the input features and the ground truth labels!\n",
        "#------YOUR CODE HERE--------\n",
        "X_test_white = X_test_raw[X_test_raw['ethnicity'] == 'Caucasian']\n",
        "X_test_non_white = X_test_raw[X_test_raw['ethnicity'] != 'Caucasian']\n",
        "y_test_white = y_test.loc[X_test_white.index]\n",
        "y_test_non_white = y_test.loc[X_test_non_white.index]\n",
        "\n",
        "X_test_female = X_test_raw[X_test_raw['gender'] == '1']\n",
        "X_test_male = X_test_raw[X_test_raw['gender'] == '0']\n",
        "y_test_female = y_test.loc[X_test_female.index]\n",
        "y_test_male = y_test.loc[X_test_male.index]\n",
        "\n",
        "X_test_young = X_test_raw[X_test_raw['age'] < 65]\n",
        "X_test_old = X_test_raw[X_test_raw['age'] >= 65]\n",
        "y_test_young = y_test.loc[X_test_young.index]\n",
        "y_test_old = y_test.loc[X_test_old.index]\n",
        "\n",
        "\n",
        "# apply preprocessing pipeline to test set\n",
        "X_test_white = pd.DataFrame(preprocessing_pipeline.transform(X_test_white), columns=feature_names)\n",
        "X_test_non_white = pd.DataFrame(preprocessing_pipeline.transform(X_test_non_white), columns=feature_names)\n",
        "X_test_female = pd.DataFrame(preprocessing_pipeline.transform(X_test_female), columns=feature_names)\n",
        "X_test_male = pd.DataFrame(preprocessing_pipeline.transform(X_test_male), columns=feature_names)\n",
        "X_test_young = pd.DataFrame(preprocessing_pipeline.transform(X_test_young), columns=feature_names)\n",
        "X_test_old = pd.DataFrame(preprocessing_pipeline.transform(X_test_old), columns=feature_names)\n",
        "#------YOUR CODE ENDS--------"
      ]
    },
    {
      "cell_type": "markdown",
      "metadata": {
        "id": "7QeLY7aKUrHO"
      },
      "source": [
        "(i) "
      ]
    },
    {
      "cell_type": "code",
      "execution_count": 215,
      "metadata": {
        "id": "eBbJNr4uUrHO"
      },
      "outputs": [],
      "source": [
        "# Compute the performance metrics below\n",
        "# You may use the evaluate_model function from before\n",
        "#------YOUR CODE HERE--------\n",
        "cohorts = [(X_test_white, y_test_white),\n",
        "            (X_test_non_white, y_test_non_white),\n",
        "            (X_test_female, y_test_female),\n",
        "            (X_test_male, y_test_male),\n",
        "            (X_test_young, y_test_young),\n",
        "            (X_test_old, y_test_old)]\n",
        "\n",
        "eval_cohort_l = []\n",
        "for X_cohort, y_cohort in cohorts:\n",
        "    eval_cohort = evaluate_model(xgbRF, X_test = X_cohort, y_test = y_cohort, printout=False)\n",
        "    eval_cohort_l.append(eval_cohort)\n",
        "    #print('---------------------------------------------------')\n",
        "#------YOUR CODE ENDS--------"
      ]
    },
    {
      "cell_type": "code",
      "execution_count": 227,
      "metadata": {
        "id": "OX1xg6__I_nu"
      },
      "outputs": [
        {
          "data": {
            "image/png": "[encoded data removed]",
            "text/plain": [
              "<Figure size 640x480 with 1 Axes>"
            ]
          },
          "metadata": {},
          "output_type": "display_data"
        },
        {
          "data": {
            "image/png": "[encoded data removed]",
            "text/plain": [
              "<Figure size 640x480 with 1 Axes>"
            ]
          },
          "metadata": {},
          "output_type": "display_data"
        },
        {
          "data": {
            "image/png": "[encoded data removed]",
            "text/plain": [
              "<Figure size 640x480 with 1 Axes>"
            ]
          },
          "metadata": {},
          "output_type": "display_data"
        }
      ],
      "source": [
        "# Plot the performance metrics on a histogram for each of the cohort splits\n",
        "#------YOUR CODE HERE--------\n",
        "plt.ylim(0.0, 1.0)\n",
        "models = [\"White\", \"Non-white\"]\n",
        "n_models = 2\n",
        "metrics = ['Accuracy', 'Precision', 'Recall', 'F1-score', 'AUC score']\n",
        "train_hist = pd.concat([eval_cohort_l[0]['Test'], eval_cohort_l[1]['Test']],axis=1)\n",
        "models_rep =[e for model in zip(*[models]*5) for e in model]\n",
        "d = train_hist.melt()\n",
        "d['models'] = models_rep\n",
        "d['variable'] = metrics * n_models\n",
        "plt.title(\"XGBoost model performances on race cohorts\")\n",
        "sns.barplot(y='value',x='variable',hue='models',data=d)\n",
        "plt.show()\n",
        "\n",
        "plt.ylim(0.0, 1.0)\n",
        "models = [\"Female\", \"Male\"]\n",
        "n_models = 2\n",
        "metrics = ['Accuracy', 'Precision', 'Recall', 'F1-score', 'AUC score']\n",
        "train_hist = pd.concat([eval_cohort_l[2]['Test'], eval_cohort_l[3]['Test']],axis=1)\n",
        "models_rep =[e for model in zip(*[models]*5) for e in model]\n",
        "d = train_hist.melt()\n",
        "d['models'] = models_rep\n",
        "d['variable'] = metrics * n_models\n",
        "plt.title(\"XGBoost model performances on sex cohorts\")\n",
        "sns.barplot(y='value',x='variable',hue='models',data=d)\n",
        "plt.show()\n",
        "\n",
        "plt.ylim(0.0, 1.0)\n",
        "models = [\"Young\", \"Old\"]\n",
        "n_models = 2\n",
        "metrics = ['Accuracy', 'Precision', 'Recall', 'F1-score', 'AUC score']\n",
        "train_hist = pd.concat([eval_cohort_l[4]['Test'], eval_cohort_l[5]['Test']],axis=1)\n",
        "models_rep =[e for model in zip(*[models]*5) for e in model]\n",
        "d = train_hist.melt()\n",
        "d['models'] = models_rep\n",
        "d['variable'] = metrics * n_models\n",
        "plt.title(\"XGBoost model performances on age cohorts\")\n",
        "sns.barplot(y='value',x='variable',hue='models',data=d)\n",
        "plt.show()\n",
        "#------YOUR CODE ENDS--------"
      ]
    },
    {
      "cell_type": "code",
      "execution_count": 223,
      "metadata": {},
      "outputs": [
        {
          "data": {
            "text/html": [
              "<div>\n",
              "<style scoped>\n",
              "    .dataframe tbody tr th:only-of-type {\n",
              "        vertical-align: middle;\n",
              "    }\n",
              "\n",
              "    .dataframe tbody tr th {\n",
              "        vertical-align: top;\n",
              "    }\n",
              "\n",
              "    .dataframe thead th {\n",
              "        text-align: right;\n",
              "    }\n",
              "</style>\n",
              "<table border=\"1\" class=\"dataframe\">\n",
              "  <thead>\n",
              "    <tr style=\"text-align: right;\">\n",
              "      <th></th>\n",
              "      <th>variable</th>\n",
              "      <th>value</th>\n",
              "      <th>models</th>\n",
              "    </tr>\n",
              "  </thead>\n",
              "  <tbody>\n",
              "    <tr>\n",
              "      <th>0</th>\n",
              "      <td>Test</td>\n",
              "      <td>0.926536</td>\n",
              "      <td>Xgboost</td>\n",
              "    </tr>\n",
              "    <tr>\n",
              "      <th>1</th>\n",
              "      <td>Test</td>\n",
              "      <td>0.785714</td>\n",
              "      <td>Xgboost</td>\n",
              "    </tr>\n",
              "    <tr>\n",
              "      <th>2</th>\n",
              "      <td>Test</td>\n",
              "      <td>0.207718</td>\n",
              "      <td>Xgboost</td>\n",
              "    </tr>\n",
              "    <tr>\n",
              "      <th>3</th>\n",
              "      <td>Test</td>\n",
              "      <td>0.328571</td>\n",
              "      <td>Xgboost</td>\n",
              "    </tr>\n",
              "    <tr>\n",
              "      <th>4</th>\n",
              "      <td>Test</td>\n",
              "      <td>0.601175</td>\n",
              "      <td>Xgboost</td>\n",
              "    </tr>\n",
              "    <tr>\n",
              "      <th>5</th>\n",
              "      <td>Test</td>\n",
              "      <td>0.924555</td>\n",
              "      <td>Xgboost</td>\n",
              "    </tr>\n",
              "    <tr>\n",
              "      <th>6</th>\n",
              "      <td>Test</td>\n",
              "      <td>0.694215</td>\n",
              "      <td>Xgboost</td>\n",
              "    </tr>\n",
              "    <tr>\n",
              "      <th>7</th>\n",
              "      <td>Test</td>\n",
              "      <td>0.227642</td>\n",
              "      <td>Xgboost</td>\n",
              "    </tr>\n",
              "    <tr>\n",
              "      <th>8</th>\n",
              "      <td>Test</td>\n",
              "      <td>0.342857</td>\n",
              "      <td>Xgboost</td>\n",
              "    </tr>\n",
              "    <tr>\n",
              "      <th>9</th>\n",
              "      <td>Test</td>\n",
              "      <td>0.609076</td>\n",
              "      <td>Xgboost</td>\n",
              "    </tr>\n",
              "  </tbody>\n",
              "</table>\n",
              "</div>"
            ],
            "text/plain": [
              "  variable     value   models\n",
              "0     Test  0.926536  Xgboost\n",
              "1     Test  0.785714  Xgboost\n",
              "2     Test  0.207718  Xgboost\n",
              "3     Test  0.328571  Xgboost\n",
              "4     Test  0.601175  Xgboost\n",
              "5     Test  0.924555  Xgboost\n",
              "6     Test  0.694215  Xgboost\n",
              "7     Test  0.227642  Xgboost\n",
              "8     Test  0.342857  Xgboost\n",
              "9     Test  0.609076  Xgboost"
            ]
          },
          "execution_count": 223,
          "metadata": {},
          "output_type": "execute_result"
        }
      ],
      "source": [
        "d"
      ]
    },
    {
      "cell_type": "markdown",
      "metadata": {
        "id": "tHaM5K7WJ_Q_"
      },
      "source": [
        "(j) Answer this question in your report"
      ]
    },
    {
      "cell_type": "markdown",
      "metadata": {
        "id": "2jdo0lN6UrHP"
      },
      "source": [
        "(k)"
      ]
    },
    {
      "cell_type": "code",
      "execution_count": null,
      "metadata": {
        "id": "q5FFcdrRUrHP"
      },
      "outputs": [],
      "source": [
        "# Visualize the shapley values for the prediction of the first datapoint of each half\n",
        "# of each split using a waterfall plot\n",
        "#------YOUR CODE HERE--------\n",
        "\n",
        "#------YOUR CODE ENDS--------"
      ]
    },
    {
      "cell_type": "markdown",
      "metadata": {
        "id": "GCah6FMHUrHR"
      },
      "source": [
        "(l) Answer this question in your report"
      ]
    },
    {
      "cell_type": "markdown",
      "metadata": {
        "id": "q2jJUqJrUrHR"
      },
      "source": [
        "## Problem 2. Delving into Disparities "
      ]
    },
    {
      "cell_type": "markdown",
      "metadata": {
        "id": "_XdiNU-IUrHR"
      },
      "source": [
        "(a) "
      ]
    },
    {
      "cell_type": "code",
      "execution_count": null,
      "metadata": {
        "id": "31aWB50RUrHR"
      },
      "outputs": [],
      "source": [
        "# Split the training set into cohorts the same way you split the test set before\n",
        "#------YOUR CODE HERE--------\n",
        "\n",
        "#------YOUR CODE ENDS--------"
      ]
    },
    {
      "cell_type": "code",
      "execution_count": null,
      "metadata": {
        "id": "UH4ykh8wUrHR"
      },
      "outputs": [],
      "source": [
        "# Plot the distributions, each on a different pie chart\n",
        "#------YOUR CODE HERE--------\n",
        "\n",
        "#------YOUR CODE ENDS--------"
      ]
    },
    {
      "cell_type": "markdown",
      "metadata": {
        "id": "BY2DsSRXUrHS"
      },
      "source": [
        "(b) "
      ]
    },
    {
      "cell_type": "code",
      "execution_count": null,
      "metadata": {
        "id": "y5aPVOTgUrHU"
      },
      "outputs": [],
      "source": [
        "def drop_rows_criteria(df: pd.DataFrame,\n",
        "                       outcome: pd.DataFrame,\n",
        "                       pct_drop: float) -> pd.DataFrame:\n",
        "    \"\"\"\n",
        "    Return two new versions of a dataset and the corresponding outcome\n",
        "    without some rows based on a certain criteria\n",
        "    (to change in the code of this function)\n",
        "\n",
        "    Args:\n",
        "        df (pd.DataFrame): initial dataset, pandas DataFrame format\n",
        "        outcome (pd.DataFrame): outcome dataset, pandas DataFrame format\n",
        "        pct_drop (float): percentage of chance to drop a value\n",
        "            if a certain criteria is met\n",
        "\n",
        "    Returns:\n",
        "        pd.DataFrame: modified dataset\n",
        "        pd.DataFrame: modified outcome\n",
        "    \n",
        "    Example:\n",
        "        X_train_raw2, y_train2 = drop_rows_criteria(X_train_raw, y_train)\n",
        "    \"\"\"\n",
        "    df2 = df.copy(deep=True).reset_index(drop=True)  # work on a copy of the dataframe\n",
        "    outcome2 = outcome.copy(deep=True).reset_index(drop=True)\n",
        "    indices_to_drop = []\n",
        "\n",
        "    # Local rng for better reproducibility\n",
        "    rng = np.random.default_rng(seed=42)\n",
        "    for i in range(len(df2)):\n",
        "        if df2.iat[i, df2.columns.get_loc(\"gender\")] != \"M\":\n",
        "\n",
        "            if rng.random() < pct_drop:  # pct_drop chance to drop this row\n",
        "                indices_to_drop.append(i)\n",
        "    df2.drop(indices_to_drop, axis=0, inplace=True)\n",
        "    outcome2.drop(indices_to_drop, axis=0, inplace=True)\n",
        "    return df2, outcome2"
      ]
    },
    {
      "cell_type": "code",
      "execution_count": null,
      "metadata": {
        "id": "8Dolnxz9UrHU"
      },
      "outputs": [],
      "source": [
        "from tqdm import tqdm\n",
        "\n",
        "report = {}\n",
        "percentages = [0.2, 0.4, 0.6, 0.8]\n",
        "for pct in tqdm(percentages):\n",
        "\n",
        "    # Use drop_rows_criteria to drop pct% of the training data\n",
        "    #------YOUR CODE HERE--------\n",
        "    X_train_raw2, y_train2 = \n",
        "    #------YOUR CODE ENDS--------\n",
        "    \n",
        "    # Create a fresh preprocessing pipeline\n",
        "    preprocessing_pipeline2 = Pipeline(\n",
        "        steps=[(\"preprocessing\", preprocessing)]\n",
        "    )\n",
        "\n",
        "\n",
        "    # Fit the preprocessing pipeline to the new training set and store the\n",
        "    # normalized version of that set in X_train2\n",
        "    # (Question to think about: why should we do this?)\n",
        "    #------YOUR CODE HERE--------\n",
        "    X_train2 = \n",
        "    #------YOUR CODE ENDS--------\n",
        "\n",
        "    # Extract new feature names\n",
        "    features_names = list(preprocessing_pipeline2[0].transformers_[0][2]) + list(preprocessing_pipeline2[0].transformers_[1][1].get_feature_names_out())\n",
        "    X_train2 = pd.DataFrame(X_train2, columns=features_names)  # to dataframe type\n",
        "    X_test2 = pd.DataFrame(preprocessing_pipeline2.transform(X_test_raw), columns=features_names)\n",
        "\n",
        "    # Split the new test data (X_test2) into male and female cohorts\n",
        "    #------YOUR CODE HERE--------\n",
        "    \n",
        "\n",
        "    #------YOUR CODE ENDS--------\n",
        "\n",
        "    # Create, fit, and evaluate your model\n",
        "    # You may use evaluate_model from before\n",
        "    #------YOUR CODE HERE--------\n",
        "    \n",
        "    \n",
        "    #------YOUR CODE ENDS--------"
      ]
    }
  ],
  "metadata": {
    "colab": {
      "collapsed_sections": [],
      "provenance": []
    },
    "interpreter": {
      "hash": "69278b85190971eb29f3da4dd37912d4f7cce250176cd1de8e5eb343082858e6"
    },
    "kernelspec": {
      "display_name": "Python 3.9.7 ('base')",
      "language": "python",
      "name": "python3"
    },
    "language_info": {
      "codemirror_mode": {
        "name": "ipython",
        "version": 3
      },
      "file_extension": ".py",
      "mimetype": "text/x-python",
      "name": "python",
      "nbconvert_exporter": "python",
      "pygments_lexer": "ipython3",
      "version": "3.9.7"
    },
    "orig_nbformat": 4,
    "vscode": {
      "interpreter": {
        "hash": "9a8029a51b57fe2d11fbd3b82c1cfa41a63a260330aa68039b758425bc8dfc97"
      }
    }
  },
  "nbformat": 4,
  "nbformat_minor": 0
}
